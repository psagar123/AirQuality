{
 "cells": [
  {
   "cell_type": "code",
   "execution_count": 5,
   "id": "c7aafc71",
   "metadata": {},
   "outputs": [],
   "source": [
    "import requests\n",
    "import json"
   ]
  },
  {
   "cell_type": "code",
   "execution_count": 6,
   "id": "6e3035f2",
   "metadata": {},
   "outputs": [
    {
     "name": "stdin",
     "output_type": "stream",
     "text": [
      "Input the Zip Code 91103\n",
      "Input date as follow (yyyy-mm-dd) 2013-05-12\n"
     ]
    }
   ],
   "source": [
    "ZIP_CODE = str(input(\"Input the Zip Code\"))\n",
    "DATE = str(input(\"Input date as follow (yyyy-mm-dd)\"))\n",
    "API_URL = f'https://www.airnowapi.org/aq/observation/zipCode/historical/?format=application/json&zipCode={ZIP_CODE}&date={DATE}T00-0000&API_KEY=6B506C96-231C-4375-B929-676EFE4F7514'\n",
    "response = requests.post(API_URL)"
   ]
  },
  {
   "cell_type": "code",
   "execution_count": 7,
   "id": "d7bc7fc9",
   "metadata": {},
   "outputs": [],
   "source": [
    "info = json.loads(response.text)"
   ]
  },
  {
   "cell_type": "code",
   "execution_count": 8,
   "id": "ac21eb5e",
   "metadata": {},
   "outputs": [
    {
     "data": {
      "text/plain": [
       "[{'DateObserved': '2013-05-12 ',\n",
       "  'HourObserved': 0,\n",
       "  'LocalTimeZone': 'PST',\n",
       "  'ReportingArea': 'W San Gabriel Vly',\n",
       "  'StateCode': 'CA',\n",
       "  'Latitude': 34.1327,\n",
       "  'Longitude': -118.1272,\n",
       "  'ParameterName': 'OZONE',\n",
       "  'AQI': 74,\n",
       "  'Category': {'Number': 2, 'Name': 'Moderate'}}]"
      ]
     },
     "execution_count": 8,
     "metadata": {},
     "output_type": "execute_result"
    }
   ],
   "source": [
    "info"
   ]
  }
 ],
 "metadata": {
  "kernelspec": {
   "display_name": "Python 3 (ipykernel)",
   "language": "python",
   "name": "python3"
  },
  "language_info": {
   "codemirror_mode": {
    "name": "ipython",
    "version": 3
   },
   "file_extension": ".py",
   "mimetype": "text/x-python",
   "name": "python",
   "nbconvert_exporter": "python",
   "pygments_lexer": "ipython3",
   "version": "3.8.10"
  }
 },
 "nbformat": 4,
 "nbformat_minor": 5
}
